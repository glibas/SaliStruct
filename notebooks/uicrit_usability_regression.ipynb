{
 "cells": [
  {
   "cell_type": "markdown",
   "metadata": {},
   "source": [
    "# Usability Scoring Model (UICrit Dataset)\n",
    "Train a regression model to predict usability score using tabular features."
   ]
  },
  {
   "cell_type": "code",
   "metadata": {
    "ExecuteTime": {
     "end_time": "2025-05-15T14:56:09.966464Z",
     "start_time": "2025-05-15T14:56:09.957217Z"
    }
   },
   "source": [
    "import pandas as pd\n",
    "import torch\n",
    "import torch.nn as nn\n",
    "import torch.optim as optim\n",
    "from torch.utils.data import Dataset, DataLoader\n",
    "from sklearn.model_selection import train_test_split\n"
   ],
   "outputs": [],
   "execution_count": 9
  },
  {
   "cell_type": "code",
   "metadata": {
    "ExecuteTime": {
     "end_time": "2025-05-15T14:53:18.360401Z",
     "start_time": "2025-05-15T14:53:18.315498Z"
    }
   },
   "source": [
    "# Load aggregated CSV with source features\n",
    "df = pd.read_csv('../eval/uicrit/aggregated_uicrit.csv')\n",
    "\n",
    "# Define Dataset\n",
    "class UsabilityDataset(Dataset):\n",
    "    def __init__(self, df):\n",
    "        self.X = df[['comment_count', 'human', 'llm', 'both', 'weighted_comment_score']].values.astype('float32')\n",
    "        self.y = df['usability_score_norm'].values.astype('float32')\n",
    "\n",
    "    def __len__(self):\n",
    "        return len(self.y)\n",
    "\n",
    "    def __getitem__(self, idx):\n",
    "        return torch.tensor(self.X[idx]), torch.tensor(self.y[idx])\n"
   ],
   "outputs": [],
   "execution_count": 3
  },
  {
   "cell_type": "code",
   "metadata": {
    "ExecuteTime": {
     "end_time": "2025-05-15T14:53:18.539491Z",
     "start_time": "2025-05-15T14:53:18.505912Z"
    }
   },
   "source": [
    "# Split data\n",
    "train_df, test_df = train_test_split(df, test_size=0.2, random_state=42)\n",
    "train_dataset = UsabilityDataset(train_df)\n",
    "test_dataset = UsabilityDataset(test_df)\n",
    "\n",
    "train_loader = DataLoader(train_dataset, batch_size=16, shuffle=True)\n",
    "test_loader = DataLoader(test_dataset, batch_size=16, shuffle=False)"
   ],
   "outputs": [],
   "execution_count": 4
  },
  {
   "cell_type": "code",
   "metadata": {
    "ExecuteTime": {
     "end_time": "2025-05-15T14:53:18.624186Z",
     "start_time": "2025-05-15T14:53:18.612181Z"
    }
   },
   "source": [
    "# Define Model\n",
    "class UsabilityRegressor(nn.Module):\n",
    "    def __init__(self, input_dim):\n",
    "        super().__init__()\n",
    "        self.net = nn.Sequential(\n",
    "            nn.Linear(input_dim, 32),\n",
    "            nn.ReLU(),\n",
    "            nn.Linear(32, 1)\n",
    "        )\n",
    "\n",
    "    def forward(self, x):\n",
    "        return self.net(x).squeeze()\n"
   ],
   "outputs": [],
   "execution_count": 5
  },
  {
   "cell_type": "code",
   "metadata": {
    "ExecuteTime": {
     "end_time": "2025-05-15T14:53:25.059765Z",
     "start_time": "2025-05-15T14:53:18.713943Z"
    }
   },
   "source": [
    "# Train\n",
    "model = UsabilityRegressor(input_dim=5)\n",
    "criterion = nn.MSELoss()\n",
    "optimizer = optim.Adam(model.parameters(), lr=0.001)\n",
    "\n",
    "def train(model, loader):\n",
    "    model.train()\n",
    "    for epoch in range(10):\n",
    "        total_loss = 0\n",
    "        for X_batch, y_batch in loader:\n",
    "            optimizer.zero_grad()\n",
    "            outputs = model(X_batch)\n",
    "            loss = criterion(outputs, y_batch)\n",
    "            loss.backward()\n",
    "            optimizer.step()\n",
    "            total_loss += loss.item()\n",
    "        print(f\"Epoch {epoch+1}, Loss: {total_loss / len(loader):.4f}\")\n",
    "\n",
    "train(model, train_loader)"
   ],
   "outputs": [
    {
     "name": "stdout",
     "output_type": "stream",
     "text": [
      "Epoch 1, Loss: 0.1215\n",
      "Epoch 2, Loss: 0.0626\n",
      "Epoch 3, Loss: 0.0520\n",
      "Epoch 4, Loss: 0.0440\n",
      "Epoch 5, Loss: 0.0376\n",
      "Epoch 6, Loss: 0.0322\n",
      "Epoch 7, Loss: 0.0275\n",
      "Epoch 8, Loss: 0.0230\n",
      "Epoch 9, Loss: 0.0200\n",
      "Epoch 10, Loss: 0.0176\n"
     ]
    }
   ],
   "execution_count": 6
  },
  {
   "cell_type": "code",
   "metadata": {
    "ExecuteTime": {
     "end_time": "2025-05-15T14:53:25.123156Z",
     "start_time": "2025-05-15T14:53:25.073534Z"
    }
   },
   "source": [
    "# Evaluate\n",
    "model.eval()\n",
    "predictions, targets = [], []\n",
    "with torch.no_grad():\n",
    "    for X_batch, y_batch in test_loader:\n",
    "        preds = model(X_batch)\n",
    "        predictions.extend(preds.tolist())\n",
    "        targets.extend(y_batch.tolist())\n",
    "\n",
    "# Save results\n",
    "results = pd.DataFrame({\n",
    "    'Predicted': predictions,\n",
    "    'True': targets\n",
    "})\n",
    "results.to_csv('predictions.csv', index=False)\n",
    "results"
   ],
   "outputs": [
    {
     "data": {
      "text/plain": [
       "     Predicted      True\n",
       "0     0.786097  0.904762\n",
       "1     0.977309  0.666667\n",
       "2     0.783258  0.857143\n",
       "3     0.741901  0.952381\n",
       "4     0.872619  0.619048\n",
       "..         ...       ...\n",
       "195   0.830797  0.761905\n",
       "196   0.700506  1.095238\n",
       "197   0.784754  0.714286\n",
       "198   0.803704  0.904762\n",
       "199   0.759399  0.904762\n",
       "\n",
       "[200 rows x 2 columns]"
      ],
      "text/html": [
       "<div>\n",
       "<style scoped>\n",
       "    .dataframe tbody tr th:only-of-type {\n",
       "        vertical-align: middle;\n",
       "    }\n",
       "\n",
       "    .dataframe tbody tr th {\n",
       "        vertical-align: top;\n",
       "    }\n",
       "\n",
       "    .dataframe thead th {\n",
       "        text-align: right;\n",
       "    }\n",
       "</style>\n",
       "<table border=\"1\" class=\"dataframe\">\n",
       "  <thead>\n",
       "    <tr style=\"text-align: right;\">\n",
       "      <th></th>\n",
       "      <th>Predicted</th>\n",
       "      <th>True</th>\n",
       "    </tr>\n",
       "  </thead>\n",
       "  <tbody>\n",
       "    <tr>\n",
       "      <th>0</th>\n",
       "      <td>0.786097</td>\n",
       "      <td>0.904762</td>\n",
       "    </tr>\n",
       "    <tr>\n",
       "      <th>1</th>\n",
       "      <td>0.977309</td>\n",
       "      <td>0.666667</td>\n",
       "    </tr>\n",
       "    <tr>\n",
       "      <th>2</th>\n",
       "      <td>0.783258</td>\n",
       "      <td>0.857143</td>\n",
       "    </tr>\n",
       "    <tr>\n",
       "      <th>3</th>\n",
       "      <td>0.741901</td>\n",
       "      <td>0.952381</td>\n",
       "    </tr>\n",
       "    <tr>\n",
       "      <th>4</th>\n",
       "      <td>0.872619</td>\n",
       "      <td>0.619048</td>\n",
       "    </tr>\n",
       "    <tr>\n",
       "      <th>...</th>\n",
       "      <td>...</td>\n",
       "      <td>...</td>\n",
       "    </tr>\n",
       "    <tr>\n",
       "      <th>195</th>\n",
       "      <td>0.830797</td>\n",
       "      <td>0.761905</td>\n",
       "    </tr>\n",
       "    <tr>\n",
       "      <th>196</th>\n",
       "      <td>0.700506</td>\n",
       "      <td>1.095238</td>\n",
       "    </tr>\n",
       "    <tr>\n",
       "      <th>197</th>\n",
       "      <td>0.784754</td>\n",
       "      <td>0.714286</td>\n",
       "    </tr>\n",
       "    <tr>\n",
       "      <th>198</th>\n",
       "      <td>0.803704</td>\n",
       "      <td>0.904762</td>\n",
       "    </tr>\n",
       "    <tr>\n",
       "      <th>199</th>\n",
       "      <td>0.759399</td>\n",
       "      <td>0.904762</td>\n",
       "    </tr>\n",
       "  </tbody>\n",
       "</table>\n",
       "<p>200 rows × 2 columns</p>\n",
       "</div>"
      ]
     },
     "execution_count": 7,
     "metadata": {},
     "output_type": "execute_result"
    }
   ],
   "execution_count": 7
  }
 ],
 "metadata": {
  "kernelspec": {
   "display_name": "Python 3",
   "language": "python",
   "name": "python3"
  },
  "language_info": {
   "name": "python"
  }
 },
 "nbformat": 4,
 "nbformat_minor": 4
}
