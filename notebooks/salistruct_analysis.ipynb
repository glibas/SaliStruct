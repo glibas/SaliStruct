# 📦 Imports
import cv2
import matplotlib.pyplot as plt
from metrics.attention_metrics import compute_attention_metrics
from metrics.structure_metrics import compute_structure_metrics
from model.usability_score import compute_usability_score
from metrics.placement_metrics import compute_average_placement_score

import os

# 📍 Paths
screenshot_path = '../data/uicrit/screenshots/example.png'
saliency_path = '../data/uicrit/saliency_maps/example.png'

# 📷 Load screenshot and saliency map
screenshot = cv2.imread(screenshot_path)
screenshot_rgb = cv2.cvtColor(screenshot, cv2.COLOR_BGR2RGB)
saliency = cv2.imread(saliency_path, cv2.IMREAD_GRAYSCALE)

# 🖼️ Visualize
fig, axs = plt.subplots(1, 2, figsize=(12, 6))
axs[0].imshow(screenshot_rgb)
axs[0].set_title('Original UI Screenshot')
axs[0].axis('off')

axs[1].imshow(saliency, cmap='hot')
axs[1].set_title('Saliency Map')
axs[1].axis('off')

plt.tight_layout()
plt.show()

# 📊 Compute attention metrics
attention = compute_attention_metrics(saliency)
print("🧠 Attention Metrics:")
for k, v in attention.items():
    print(f"{k}: {v}")

# 🧱 Compute structure metrics
structure = compute_structure_metrics(screenshot)
print("\n📐 Structure Metrics:")
for k, v in structure.items():
    print(f"{k}: {v}")

placement_score = compute_average_placement_score(screenshot, saliency)
print(f"\n📌 Placement Score: {placement_score}")

usability_score = compute_usability_score(attention, structure, placement_score)
print(f"\n🎯 Usability Score: {usability_score}")